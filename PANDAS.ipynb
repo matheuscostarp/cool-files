{
  "nbformat": 4,
  "nbformat_minor": 0,
  "metadata": {
    "colab": {
      "provenance": [],
      "include_colab_link": true
    },
    "kernelspec": {
      "name": "python3",
      "display_name": "Python 3"
    },
    "language_info": {
      "name": "python"
    }
  },
  "cells": [
    {
      "cell_type": "markdown",
      "metadata": {
        "id": "view-in-github",
        "colab_type": "text"
      },
      "source": [
        "<a href=\"https://colab.research.google.com/github/matheuscostarp/cool-files/blob/master/PANDAS.ipynb\" target=\"_parent\"><img src=\"https://colab.research.google.com/assets/colab-badge.svg\" alt=\"Open In Colab\"/></a>"
      ]
    },
    {
      "cell_type": "markdown",
      "source": [
        "Biblioteca mais usada para lidar com Dados.\n",
        "Possui dados do tipo séries e dados do tipo dataframe.\n",
        "Um dataframe é uma tabela, constituida de linhas e colunas.\n",
        "Cada coluna do dataframe é uma série.\n",
        "\n",
        "Séries podem ser criadas por meio de uma lista enquanto dataframes podem ser criados por meio de um dicionário."
      ],
      "metadata": {
        "id": "55n0kBVVuA-H"
      }
    },
    {
      "cell_type": "code",
      "execution_count": null,
      "metadata": {
        "colab": {
          "base_uri": "https://localhost:8080/"
        },
        "id": "NeeA2uqyt8uF",
        "outputId": "b33e30a3-541e-40fc-cdf0-70af27536fdc"
      },
      "outputs": [
        {
          "output_type": "stream",
          "name": "stdout",
          "text": [
            "0     Ricardo\n",
            "1    Danielle\n",
            "2     Joaquim\n",
            "Name: Nome, dtype: object\n"
          ]
        }
      ],
      "source": [
        "# A criação de uma série depende de dois fatores: Os dados e seus índices. \n",
        "# Sendo assim, criam-se duas listas, uma para armazenar os dados e outra de índices.\n",
        "# utiliza-se pd.Series para se criar uma série. Ela recebe três atributos princiais: data, index e name\n",
        "\n",
        "import pandas as pd\n",
        "import numpy as np\n",
        "\n",
        "nomes = ['Ricardo', 'Danielle', 'Joaquim']\n",
        "indices = [0, 1, 2]\n",
        "\n",
        "serie = pd.Series(\n",
        "    data = nomes,\n",
        "    index = indices,\n",
        "    name = 'Nome'\n",
        ")\n",
        "print(serie)"
      ]
    },
    {
      "cell_type": "code",
      "source": [
        "# A criação de um DataFrame se dá por um dicionário cujas chaves são listas.\n",
        "dicio = {'nome': ['Ricardo', 'Danielle', 'Joaquim'], 'idade': [36, 46, 4], 'sexo':['M', 'F', 'M']}\n",
        "pd.DataFrame(dicio)"
      ],
      "metadata": {
        "colab": {
          "base_uri": "https://localhost:8080/",
          "height": 143
        },
        "id": "hUg2r0cLv2Wf",
        "outputId": "91fbe660-696b-4107-86f8-e4843764eb7b"
      },
      "execution_count": null,
      "outputs": [
        {
          "output_type": "execute_result",
          "data": {
            "text/plain": [
              "       nome  idade sexo\n",
              "0   Ricardo     36    M\n",
              "1  Danielle     46    F\n",
              "2   Joaquim      4    M"
            ],
            "text/html": [
              "\n",
              "  <div id=\"df-36ef6aed-6170-44ca-a303-2fbd9aadedc8\">\n",
              "    <div class=\"colab-df-container\">\n",
              "      <div>\n",
              "<style scoped>\n",
              "    .dataframe tbody tr th:only-of-type {\n",
              "        vertical-align: middle;\n",
              "    }\n",
              "\n",
              "    .dataframe tbody tr th {\n",
              "        vertical-align: top;\n",
              "    }\n",
              "\n",
              "    .dataframe thead th {\n",
              "        text-align: right;\n",
              "    }\n",
              "</style>\n",
              "<table border=\"1\" class=\"dataframe\">\n",
              "  <thead>\n",
              "    <tr style=\"text-align: right;\">\n",
              "      <th></th>\n",
              "      <th>nome</th>\n",
              "      <th>idade</th>\n",
              "      <th>sexo</th>\n",
              "    </tr>\n",
              "  </thead>\n",
              "  <tbody>\n",
              "    <tr>\n",
              "      <th>0</th>\n",
              "      <td>Ricardo</td>\n",
              "      <td>36</td>\n",
              "      <td>M</td>\n",
              "    </tr>\n",
              "    <tr>\n",
              "      <th>1</th>\n",
              "      <td>Danielle</td>\n",
              "      <td>46</td>\n",
              "      <td>F</td>\n",
              "    </tr>\n",
              "    <tr>\n",
              "      <th>2</th>\n",
              "      <td>Joaquim</td>\n",
              "      <td>4</td>\n",
              "      <td>M</td>\n",
              "    </tr>\n",
              "  </tbody>\n",
              "</table>\n",
              "</div>\n",
              "      <button class=\"colab-df-convert\" onclick=\"convertToInteractive('df-36ef6aed-6170-44ca-a303-2fbd9aadedc8')\"\n",
              "              title=\"Convert this dataframe to an interactive table.\"\n",
              "              style=\"display:none;\">\n",
              "        \n",
              "  <svg xmlns=\"http://www.w3.org/2000/svg\" height=\"24px\"viewBox=\"0 0 24 24\"\n",
              "       width=\"24px\">\n",
              "    <path d=\"M0 0h24v24H0V0z\" fill=\"none\"/>\n",
              "    <path d=\"M18.56 5.44l.94 2.06.94-2.06 2.06-.94-2.06-.94-.94-2.06-.94 2.06-2.06.94zm-11 1L8.5 8.5l.94-2.06 2.06-.94-2.06-.94L8.5 2.5l-.94 2.06-2.06.94zm10 10l.94 2.06.94-2.06 2.06-.94-2.06-.94-.94-2.06-.94 2.06-2.06.94z\"/><path d=\"M17.41 7.96l-1.37-1.37c-.4-.4-.92-.59-1.43-.59-.52 0-1.04.2-1.43.59L10.3 9.45l-7.72 7.72c-.78.78-.78 2.05 0 2.83L4 21.41c.39.39.9.59 1.41.59.51 0 1.02-.2 1.41-.59l7.78-7.78 2.81-2.81c.8-.78.8-2.07 0-2.86zM5.41 20L4 18.59l7.72-7.72 1.47 1.35L5.41 20z\"/>\n",
              "  </svg>\n",
              "      </button>\n",
              "      \n",
              "  <style>\n",
              "    .colab-df-container {\n",
              "      display:flex;\n",
              "      flex-wrap:wrap;\n",
              "      gap: 12px;\n",
              "    }\n",
              "\n",
              "    .colab-df-convert {\n",
              "      background-color: #E8F0FE;\n",
              "      border: none;\n",
              "      border-radius: 50%;\n",
              "      cursor: pointer;\n",
              "      display: none;\n",
              "      fill: #1967D2;\n",
              "      height: 32px;\n",
              "      padding: 0 0 0 0;\n",
              "      width: 32px;\n",
              "    }\n",
              "\n",
              "    .colab-df-convert:hover {\n",
              "      background-color: #E2EBFA;\n",
              "      box-shadow: 0px 1px 2px rgba(60, 64, 67, 0.3), 0px 1px 3px 1px rgba(60, 64, 67, 0.15);\n",
              "      fill: #174EA6;\n",
              "    }\n",
              "\n",
              "    [theme=dark] .colab-df-convert {\n",
              "      background-color: #3B4455;\n",
              "      fill: #D2E3FC;\n",
              "    }\n",
              "\n",
              "    [theme=dark] .colab-df-convert:hover {\n",
              "      background-color: #434B5C;\n",
              "      box-shadow: 0px 1px 3px 1px rgba(0, 0, 0, 0.15);\n",
              "      filter: drop-shadow(0px 1px 2px rgba(0, 0, 0, 0.3));\n",
              "      fill: #FFFFFF;\n",
              "    }\n",
              "  </style>\n",
              "\n",
              "      <script>\n",
              "        const buttonEl =\n",
              "          document.querySelector('#df-36ef6aed-6170-44ca-a303-2fbd9aadedc8 button.colab-df-convert');\n",
              "        buttonEl.style.display =\n",
              "          google.colab.kernel.accessAllowed ? 'block' : 'none';\n",
              "\n",
              "        async function convertToInteractive(key) {\n",
              "          const element = document.querySelector('#df-36ef6aed-6170-44ca-a303-2fbd9aadedc8');\n",
              "          const dataTable =\n",
              "            await google.colab.kernel.invokeFunction('convertToInteractive',\n",
              "                                                     [key], {});\n",
              "          if (!dataTable) return;\n",
              "\n",
              "          const docLinkHtml = 'Like what you see? Visit the ' +\n",
              "            '<a target=\"_blank\" href=https://colab.research.google.com/notebooks/data_table.ipynb>data table notebook</a>'\n",
              "            + ' to learn more about interactive tables.';\n",
              "          element.innerHTML = '';\n",
              "          dataTable['output_type'] = 'display_data';\n",
              "          await google.colab.output.renderOutput(dataTable, element);\n",
              "          const docLink = document.createElement('div');\n",
              "          docLink.innerHTML = docLinkHtml;\n",
              "          element.appendChild(docLink);\n",
              "        }\n",
              "      </script>\n",
              "    </div>\n",
              "  </div>\n",
              "  "
            ]
          },
          "metadata": {},
          "execution_count": 4
        }
      ]
    },
    {
      "cell_type": "code",
      "source": [
        "#Criação de um dicionário para dataframe\n",
        "dicio = dict()\n",
        "listanome = list()\n",
        "listaidade = list()\n",
        "listasexo = list()\n",
        "controle = True\n",
        "\n",
        "while controle == True:\n",
        "  print('')\n",
        "  nome = str(input('Qual o seu nome? '))\n",
        "  listanome.append(nome)\n",
        "  idade = int(input('Qual a sua idade? '))\n",
        "  listaidade.append(idade)\n",
        "  sexo = str(input('Qual o seu gênero? '))\n",
        "  listasexo.append(sexo)\n",
        "  print('')\n",
        "  continua = str(input('Deseja cadastrar mais alguma pessoa? s/n '))\n",
        "  if continua == 'n':\n",
        "    controle = False\n",
        "\n",
        "nome_array = np.array(listanome)\n",
        "listanome.clear()\n",
        "idade_array = np.array(listaidade)\n",
        "listaidade.clear()\n",
        "sexo_array = np.array(listasexo)\n",
        "listasexo.clear()\n",
        "\n",
        "dicio['nome'] = nome_array\n",
        "dicio['Idade'] = idade_array\n",
        "dicio['Sexo'] = sexo_array\n",
        "\n",
        "pd.DataFrame(dicio)"
      ],
      "metadata": {
        "colab": {
          "base_uri": "https://localhost:8080/"
        },
        "id": "ELUoSfDEw7Q5",
        "outputId": "090ea541-28ba-40d9-80da-5a7d8b959dec"
      },
      "execution_count": null,
      "outputs": [
        {
          "output_type": "stream",
          "name": "stdout",
          "text": [
            "\n",
            "Qual o seu nome? Ricardo\n",
            "Qual a sua idade? 36\n",
            "Qual o seu gênero? M\n",
            "\n",
            "Deseja cadastrar mais alguma pessoa? s/n s\n",
            "\n",
            "Qual o seu nome? Danielle\n",
            "Qual a sua idade? 46\n",
            "Qual o seu gênero? F\n",
            "\n",
            "Deseja cadastrar mais alguma pessoa? s/n s\n",
            "\n"
          ]
        }
      ]
    }
  ]
}